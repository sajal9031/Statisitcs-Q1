{
 "cells": [
  {
   "cell_type": "markdown",
   "id": "86199e21-8893-40b1-8eb7-798400e12e60",
   "metadata": {},
   "source": [
    "1.  What is Statistics?"
   ]
  },
  {
   "cell_type": "markdown",
   "id": "558dc77d-332d-483e-9228-4d30b952e00b",
   "metadata": {},
   "source": [
    "Statistics is the branch of mathematics that deals with the collection, analysis, interpretation, presentation, and organization of data. It is used to extract meaningful information from data, make inferences about populations based on samples, and test hypotheses.\n",
    "\n",
    "\n",
    "In general, statistics involves:\n",
    "\n",
    "1. Collecting data: This involves gathering information or observations on a particular phenomenon or process.\n",
    "\n",
    "2. Summarizing data: This involves summarizing and describing the data in a meaningful way, such as by calculating measures of central tendency (mean, median, mode) and measures of variability (standard deviation, variance).\n",
    "\n",
    "3. Analyzing data: This involves using mathematical and statistical methods to analyze the data and draw conclusions or make predictions about the population from which the data was sampled.\n",
    "\n",
    "4. Presenting data: This involves presenting the data in a way that is clear and understandable, such as through tables, graphs, and charts."
   ]
  },
  {
   "cell_type": "code",
   "execution_count": null,
   "id": "6402be9f-5d56-4762-b61a-a926d0fbcebc",
   "metadata": {},
   "outputs": [],
   "source": []
  },
  {
   "cell_type": "markdown",
   "id": "bae662c2-fa34-456e-98c2-7c45cc7a7f1d",
   "metadata": {},
   "source": [
    "2. Define the different types of statistics and give an example of when each type might be used."
   ]
  },
  {
   "cell_type": "markdown",
   "id": "1cc9ca9d-ee84-4dad-b8a1-30c785edf66e",
   "metadata": {},
   "source": [
    "There are two main types of statistics: descriptive statistics and inferential statistics.\n",
    "\n",
    "1. Descriptive statistics: Descriptive statistics involve the collection, organization, analysis, and presentation of data in a meaningful way, with the goal of summarizing and describing the data. Descriptive statistics are used to provide a clear and concise summary of the data and to highlight important patterns or relationships. Examples of descriptive statistics include measures of central tendency (mean, median, mode), measures of variability (standard deviation, variance), and frequency distributions.\n",
    "Example: A medical researcher might use descriptive statistics to summarize and describe the characteristics of a sample of patients with a certain disease, including their age, gender, and medical history.\n",
    "\n",
    "2. Inferential statistics: Inferential statistics involve using the data from a sample to draw conclusions or make predictions about a larger population. Inferential statistics are used to test hypotheses, estimate parameters, and make predictions about the population. Examples of inferential statistics include hypothesis testing, confidence intervals, and regression analysis."
   ]
  },
  {
   "cell_type": "code",
   "execution_count": null,
   "id": "adbfb761-55e4-42f3-ae7a-b3de07394624",
   "metadata": {},
   "outputs": [],
   "source": []
  },
  {
   "cell_type": "markdown",
   "id": "a3f371e4-2ce0-470f-9ad0-d6fd6920dfe8",
   "metadata": {},
   "source": [
    "3. What are the different types of data and how do they differ from each other? Provide an example of\n",
    "   each type of data."
   ]
  },
  {
   "cell_type": "markdown",
   "id": "51231b0d-e671-4075-8b0a-76fbb33da961",
   "metadata": {},
   "source": [
    "There are four main types of data: nominal, ordinal, interval, and ratio data.\n",
    "\n",
    "1. Nominal data: Nominal data are categorical data that have no inherent order or numerical value. Examples of nominal data include gender, eye color, and race.\n",
    "    \n",
    "    Example: A survey may collect nominal data on the political affiliation of respondents, such as Republican, Democrat,     or Independent.\n",
    "\n",
    "2. Ordinal data: Ordinal data are categorical data that have a natural order or ranking. The distance between categories    is not known or not meaningful. Examples of ordinal data include ranks (e.g., first, second, third), rating scales        (e.g., Likert scales), and grades (e.g., A, B, C).\n",
    "\n",
    "   Example: A teacher may use an ordinal scale to grade student performance, such as A, B, C, D, or F.\n",
    "\n",
    "3. Interval data: Interval data are numerical data that have a constant unit of measurement, but do not have a true zero    point. This means that the distance between values is meaningful, but ratios between values are not. Examples of interval data include temperature measured in Celsius or Fahrenheit, and dates.\n",
    "\n",
    "   Example: A study may collect interval data on the temperature in a city at different times throughout the day, such as 10°C at 6 AM, 20°C at 12 PM, and 15°C at 6 PM.\n",
    "\n",
    "4. Ratio data: Ratio data are numerical data that have a true zero point, meaning that ratios between values are meaningful. Examples of ratio data include height, weight, and income.\n",
    "   \n",
    "   Example: A researcher may collect ratio data on the number of hours worked per week by employees at a company, with zero representing no hours worked and higher values representing more hours worked."
   ]
  },
  {
   "cell_type": "code",
   "execution_count": null,
   "id": "1c5ad29f-ece2-405a-adfa-f4b440f32df0",
   "metadata": {},
   "outputs": [],
   "source": []
  },
  {
   "cell_type": "markdown",
   "id": "0683f90a-bff9-4533-89fd-0c90918dd3d3",
   "metadata": {},
   "source": [
    "4. Categorise the following datasets with respect to quantitative and qualitative data types:\n",
    "\n",
    "   (i) Grading in exam: A+, A, B+, B, C+, C, D, E\n",
    "\n",
    "   (ii) Colour of mangoes: yellow, green, orange, red\n",
    "\n",
    "   (iii) Height data of a class: [178.9, 179, 179.5, 176, 177.2, 178.3, 175.8,...]\n",
    "\n",
    "   (iv) Number of mangoes exported by a farm: [500, 600, 478, 672, ...]"
   ]
  },
  {
   "cell_type": "markdown",
   "id": "51f14954-b299-4c8e-8104-611a16a9f822",
   "metadata": {},
   "source": [
    "(i) Grading in exam: This is an example of qualitative data, specifically ordinal data, since the grades have a natural order or ranking.\n",
    "\n",
    "(ii) Colour of mangoes: This is an example of qualitative data, specifically nominal data, since the colors do not have a natural order or ranking.\n",
    "\n",
    "(iii) Height data of a class: This is an example of quantitative data, specifically continuous data, since the heights can take on any value within a certain range.\n",
    "\n",
    "(iv) Number of mangoes exported by a farm: This is an example of quantitative data, specifically discrete data, since the number of mangoes is a countable variable that can only take on certain integer values."
   ]
  },
  {
   "cell_type": "code",
   "execution_count": null,
   "id": "6766ca63-9b68-4d2f-9e87-105b333f62a2",
   "metadata": {},
   "outputs": [],
   "source": []
  },
  {
   "cell_type": "markdown",
   "id": "938e8de8-e1c6-4cfb-88e5-855d7026266a",
   "metadata": {},
   "source": [
    "5. Explain the concept of levels of measurement and give an example of a variable for each level."
   ]
  },
  {
   "cell_type": "markdown",
   "id": "899ea60e-bca5-4ddc-9532-9cc7e062e426",
   "metadata": {},
   "source": [
    "Levels of measurement refer to the different types of measurement scales used to measure different types of data. There are four levels of measurement: nominal, ordinal, interval, and ratio.\n",
    "\n",
    "1. Nominal level of measurement: This is the lowest level of measurement and represents data that are categorical or qualitative in nature. The data cannot be ordered or ranked in any meaningful way. Examples of nominal variables include gender, race, religion, and political affiliation.\n",
    "\n",
    "2. Ordinal level of measurement: This level of measurement represents data that have an inherent order or ranking, but the differences between values are not necessarily equal or meaningful. Examples of ordinal variables include letter grades (A, B, C, etc.), levels of satisfaction (very satisfied, somewhat satisfied, etc.), and socioeconomic status (low, medium, high).\n",
    "\n",
    "3. Interval level of measurement: This level of measurement represents data that have a meaningful order, and the differences between values are equal and meaningful, but there is no true zero point. Examples of interval variables include temperature measured in Celsius or Fahrenheit, and dates.\n",
    "\n",
    "4. Ratio level of measurement: This is the highest level of measurement and represents data that have a meaningful order, the differences between values are equal and meaningful, and there is a true zero point. Examples of ratio variables include height, weight, and income.\n",
    "\n",
    "\n",
    "Example of a variable for each level of measurement:\n",
    "\n",
    "\n",
    "Nominal: Eye color (e.g. blue, brown, green)\n",
    "\n",
    "Ordinal: Education level (e.g. high school diploma, associate degree, bachelor's degree, master's degree, doctorate degree)\n",
    "\n",
    "Interval: Temperature in Celsius (e.g. 20°C, 25°C, 30°C)\n",
    "\n",
    "Ratio: Weight in kilograms (e.g. 50 kg, 75 kg, 100 kg)"
   ]
  },
  {
   "cell_type": "code",
   "execution_count": null,
   "id": "3cedf874-5118-4ba5-9b91-7fd8c0480a17",
   "metadata": {},
   "outputs": [],
   "source": []
  },
  {
   "cell_type": "markdown",
   "id": "e13e0d62-f8fb-4789-b028-e1abfeddbfd0",
   "metadata": {},
   "source": [
    "6. Why is it important to understand the level of measurement when analyzing data? Provide an\n",
    "example to illustrate your answer."
   ]
  },
  {
   "cell_type": "markdown",
   "id": "a350cc3e-f6e6-406b-af44-071086c6aa1e",
   "metadata": {},
   "source": [
    "It is important to understand the level of measurement when analyzing data because it determines the types of statistical methods that can be used, as well as the appropriate measures of central tendency and dispersion.\n",
    "\n",
    "For example, if we have nominal data such as the colors of cars (e.g., red, blue, green), we cannot calculate a mean or median, because these statistics require numerical data. Instead, we can only calculate the mode or frequency distribution of the data.\n",
    "\n",
    "Similarly, if we have ordinal data such as customer satisfaction levels (e.g., very satisfied, somewhat satisfied, neutral, somewhat dissatisfied, very dissatisfied), we can calculate the median, but not the mean. In addition, we need to be careful when making comparisons between categories, as the distance between categories may not be equal.\n",
    "\n",
    "On the other hand, if we have interval or ratio data such as temperature (in Celsius or Fahrenheit) or income, we can use both mean and median as measures of central tendency, and we can use standard deviation or variance as measures of dispersion.\n"
   ]
  },
  {
   "cell_type": "code",
   "execution_count": null,
   "id": "20193f3d-aac8-48b6-96c2-a8da232dcd1e",
   "metadata": {},
   "outputs": [],
   "source": []
  },
  {
   "cell_type": "markdown",
   "id": "d2693676-b5b6-4afc-b5c7-63fd02d925a7",
   "metadata": {},
   "source": [
    "7. How nominal data type is different from ordinal data type."
   ]
  },
  {
   "cell_type": "markdown",
   "id": "dc8fc80a-7635-481d-a4c7-4cbd4ba057c0",
   "metadata": {},
   "source": [
    "Nominal and ordinal data types are both categorical data types, but they differ in terms of the level of measurement.\n",
    "\n",
    "Nominal data is a categorical data type where the data is organized into categories or labels that have no order or ranking. Each category is mutually exclusive and exhaustive, meaning that each observation can only belong to one category, and there are no other categories that are not accounted for. Examples of nominal data include gender (male, female), colors (red, blue, green), and types of animals (dog, cat, bird).\n",
    "\n",
    "\n",
    "Ordinal data, on the other hand, is also a categorical data type, but the categories have a natural order or ranking. The ranking may not necessarily be evenly spaced or have equal intervals between the categories. Examples of ordinal data include the level of education (elementary, high school, college), rating scales (strongly agree, agree, neutral, disagree, strongly disagree), and survey questions that ask for rankings (first, second, third, etc.)."
   ]
  },
  {
   "cell_type": "code",
   "execution_count": null,
   "id": "53b94a75-8077-47ca-b833-2daffad8f5ab",
   "metadata": {},
   "outputs": [],
   "source": []
  },
  {
   "cell_type": "markdown",
   "id": "8a8605f7-ebba-4aac-83b9-6f8b7e159d04",
   "metadata": {},
   "source": [
    "8. Which type of plot can be used to display data in terms of range?"
   ]
  },
  {
   "cell_type": "markdown",
   "id": "b46c8c0a-0972-49e3-ae6a-c6f879ca4859",
   "metadata": {},
   "source": [
    "A box plot, also known as a box-and-whisker plot, can be used to display data in terms of range. A box plot is a graphical representation of the five-number summary of a data set, which includes the minimum value, the first quartile (Q1), the median (Q2), the third quartile (Q3), and the maximum value.\n",
    "\n",
    "The box in the plot represents the middle 50% of the data, with the bottom of the box representing the first quartile (Q1) and the top of the box representing the third quartile (Q3). The median is represented by a line inside the box. The whiskers extend from the box to the minimum and maximum values in the data set, or to a certain range that is determined by some other criterion (such as 1.5 times the interquartile range).\n",
    "\n",
    "Box plots are useful for comparing the distribution of data between different groups or categories, identifying outliers or extreme values, and showing the spread of the data. They are particularly useful for displaying data in terms of range, as the whiskers and box of the plot provide a clear visual representation of the minimum, maximum, and quartiles of the data."
   ]
  },
  {
   "cell_type": "code",
   "execution_count": null,
   "id": "36a541f0-78a5-42d4-a62e-776197ce9079",
   "metadata": {},
   "outputs": [],
   "source": []
  },
  {
   "cell_type": "markdown",
   "id": "254aea06-2d32-44ff-a81c-639b489e1ba1",
   "metadata": {},
   "source": [
    "9. Describe the difference between descriptive and inferential statistics. Give an example of each\n",
    "type of statistics and explain how they are used."
   ]
  },
  {
   "cell_type": "markdown",
   "id": "6e381752-a14e-4683-943b-0f75fdae7948",
   "metadata": {},
   "source": [
    "Descriptive statistics are used to describe and summarize the characteristics of a data set. They include measures of central tendency (such as mean, median, and mode), measures of dispersion (such as range, variance, and standard deviation), and graphical representations (such as histograms, box plots, and scatter plots). Descriptive statistics can be used to understand the distribution of the data, identify patterns or trends, and summarize the data for presentation or publication. For example, a researcher might use descriptive statistics to summarize the age, gender, and education level of a sample of participants in a study.\n",
    "\n",
    "\n",
    "Inferential statistics, on the other hand, are used to make inferences or draw conclusions about a population based on a sample of data. They involve testing hypotheses and estimating parameters using probability theory and statistical models. Inferential statistics can be used to determine whether an observed effect or relationship in the sample is statistically significant, meaning that it is unlikely to have occurred by chance alone. For example, a researcher might use inferential statistics to test whether a new drug is more effective than a placebo in reducing symptoms of a disease.\n",
    "\n",
    "In summary, descriptive statistics are used to describe and summarize data, while inferential statistics are used to draw conclusions and make inferences about a population based on a sample of data."
   ]
  },
  {
   "cell_type": "code",
   "execution_count": null,
   "id": "2e89db54-336a-46e0-b60d-85672ce8e78e",
   "metadata": {},
   "outputs": [],
   "source": []
  },
  {
   "cell_type": "markdown",
   "id": "00552018-3b9a-4691-bf1e-653d1aafc8eb",
   "metadata": {},
   "source": [
    "11. What are some common measures of central tendency and variability used in statistics? Explain\n",
    "how each measure can be used to describe a dataset."
   ]
  },
  {
   "cell_type": "markdown",
   "id": "551df474-9945-4985-9f35-926e80e9df30",
   "metadata": {},
   "source": [
    "Measures of central tendency and variability are commonly used in statistics to summarize and describe a dataset. The three most common measures of central tendency are mean, median, and mode, while the most common measures of variability are range, variance, and standard deviation.\n",
    "\n",
    "\n",
    "Mean: The mean is the arithmetic average of a set of values. It is calculated by adding up all the values in the dataset and dividing by the total number of values. The mean is a useful measure of central tendency when the data is normally distributed and there are no outliers. However, it can be affected by extreme values, which can distort the result.\n",
    "\n",
    "\n",
    "Median: The median is the middle value in a set of values when they are arranged in order of magnitude. It is a useful measure of central tendency when the data is skewed or has outliers, as it is not affected by extreme values.\n",
    "\n",
    "\n",
    "Mode: The mode is the most frequently occurring value in a dataset. It is useful for describing the most common value or category in the data, but it may not exist or may be ambiguous if there are several values that occur with the same frequency.\n",
    "\n",
    "\n",
    "Range: The range is the difference between the highest and lowest values in a dataset. It provides a simple measure of variability that can indicate the spread of the data, but it is sensitive to outliers and does not provide information about the distribution of values in the dataset.\n",
    "\n",
    "\n",
    "Variance: The variance is a measure of how much the values in a dataset vary from the mean. It is calculated by taking the average of the squared differences between each value and the mean. Variance can be used to assess how spread out the data is, but it is sensitive to outliers and difficult to interpret because it is in squared units.\n",
    "\n",
    "\n",
    "Standard deviation: The standard deviation is the square root of the variance. It provides a measure of variability that is in the same units as the data, making it easier to interpret. It is also less sensitive to outliers than the variance."
   ]
  },
  {
   "cell_type": "code",
   "execution_count": null,
   "id": "946a183a-999f-4db9-830b-dfce03959fe2",
   "metadata": {},
   "outputs": [],
   "source": []
  },
  {
   "cell_type": "code",
   "execution_count": null,
   "id": "3069817e-b67b-4a5c-b736-db23e048527a",
   "metadata": {},
   "outputs": [],
   "source": []
  },
  {
   "cell_type": "code",
   "execution_count": null,
   "id": "28fd418a-7d0f-4250-b7d7-2475d2c3651e",
   "metadata": {},
   "outputs": [],
   "source": []
  }
 ],
 "metadata": {
  "kernelspec": {
   "display_name": "Python 3 (ipykernel)",
   "language": "python",
   "name": "python3"
  },
  "language_info": {
   "codemirror_mode": {
    "name": "ipython",
    "version": 3
   },
   "file_extension": ".py",
   "mimetype": "text/x-python",
   "name": "python",
   "nbconvert_exporter": "python",
   "pygments_lexer": "ipython3",
   "version": "3.10.8"
  }
 },
 "nbformat": 4,
 "nbformat_minor": 5
}
